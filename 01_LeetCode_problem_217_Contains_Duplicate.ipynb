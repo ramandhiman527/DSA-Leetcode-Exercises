{
  "nbformat": 4,
  "nbformat_minor": 0,
  "metadata": {
    "colab": {
      "provenance": [],
      "authorship_tag": "ABX9TyO5bGgYS1x+GY3JoxlfXf2K",
      "include_colab_link": true
    },
    "kernelspec": {
      "name": "python3",
      "display_name": "Python 3"
    },
    "language_info": {
      "name": "python"
    }
  },
  "cells": [
    {
      "cell_type": "markdown",
      "metadata": {
        "id": "view-in-github",
        "colab_type": "text"
      },
      "source": [
        "<a href=\"https://colab.research.google.com/github/ramandhiman527/DSA-Leetcode-Exercises/blob/main/01_LeetCode_problem_217_Contains_Duplicate.ipynb\" target=\"_parent\"><img src=\"https://colab.research.google.com/assets/colab-badge.svg\" alt=\"Open In Colab\"/></a>"
      ]
    },
    {
      "cell_type": "markdown",
      "source": [
        "### **Given an integer array nums, return true if any value appears at least twice in the array, and return false if every element is distinct.**\n",
        "\n",
        "Example 1:\n",
        "\n",
        "    Input: nums = [1,2,3,1]\n",
        "\n",
        "    Output: true\n",
        "\n",
        "Example 2:\n",
        "\n",
        "    Input: nums = [1,2,3,4]\n",
        "\n",
        "    Output: false\n",
        "\n",
        "Example 3:\n",
        "\n",
        "    Input: nums = [1,1,1,3,3,4,3,2,4,2]\n",
        "\n",
        "    Output: true\n",
        "\n",
        "Constraints:\n",
        "\n",
        "    1 <= nums.length <= 10^5\n",
        "\n",
        "    -10^9 <= nums[i] <= 10^9"
      ],
      "metadata": {
        "id": "ifn9OMm7Ua4-"
      }
    },
    {
      "cell_type": "markdown",
      "source": [
        "#### **Solution Using Set**\n",
        "\n",
        "    Time Complexity --> O(n) as set uses only O(1) and we are iterating array only once."
      ],
      "metadata": {
        "id": "_hmKMyyPWzW_"
      }
    },
    {
      "cell_type": "code",
      "source": [
        "class Solution:\n",
        "    def containsDuplicate(self, nums: List[int]) -> bool:\n",
        "        num_set = set()\n",
        "        for num in nums:\n",
        "            if num in num_set:\n",
        "                return True\n",
        "            else:\n",
        "                num_set.add(num)\n",
        "        return False    "
      ],
      "metadata": {
        "id": "Oqk9WXlWWsK_"
      },
      "execution_count": null,
      "outputs": []
    },
    {
      "cell_type": "markdown",
      "source": [
        "#### **Solution using Sorting Method**"
      ],
      "metadata": {
        "id": "vm8DpxfXrPPQ"
      }
    },
    {
      "cell_type": "code",
      "source": [
        "class Solution:\n",
        "    def containsDuplicate(self, nums: List[int]) -> bool:\n",
        "        num_set = set()\n",
        "        for num in nums:\n",
        "            if num in num_set:\n",
        "                return True\n",
        "            else:\n",
        "                num_set.add(num)\n",
        "        return False    \n",
        "                  "
      ],
      "metadata": {
        "id": "lTmDIEYrXq89"
      },
      "execution_count": null,
      "outputs": []
    }
  ]
}