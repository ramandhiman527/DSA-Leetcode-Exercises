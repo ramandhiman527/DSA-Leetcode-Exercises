{
  "nbformat": 4,
  "nbformat_minor": 0,
  "metadata": {
    "colab": {
      "provenance": []
    },
    "kernelspec": {
      "name": "python3",
      "display_name": "Python 3"
    },
    "language_info": {
      "name": "python"
    }
  },
  "cells": [
    {
      "cell_type": "markdown",
      "source": [
        "    The KthLargest class maintains a min heap of the k largest elements seen so far in the stream. \n",
        "    When a new element is added, if it is larger than the minimum element in the heap, the minimum is removed and the new element is inserted. \n",
        "    The root of the heap is the kth largest element in the stream."
      ],
      "metadata": {
        "id": "4G77o_ZLAiDP"
      }
    },
    {
      "cell_type": "code",
      "execution_count": null,
      "metadata": {
        "id": "gel6aNuP6cg3"
      },
      "outputs": [],
      "source": [
        "class KthLargest:\n",
        "\n",
        "    def __init__(self, k: int, nums: List[int]):\n",
        "        self.k =  k\n",
        "        self.min_heap = nums\n",
        "        heapq.heapify(self.min_heap)\n",
        "        while len(self.min_heap) > k:\n",
        "            heapq.heappop(self.min_heap)\n",
        "\n",
        "    def add(self, val: int) -> int:\n",
        "        heapq.heappush(self.min_heap, val)\n",
        "        if len(self.min_heap) > self.k:\n",
        "            heapq.heappop(self.min_heap)\n",
        "        return self.min_heap[0]\n",
        "\n",
        "# Your KthLargest object will be instantiated and called as such:\n",
        "# obj = KthLargest(k, nums)\n",
        "# param_1 = obj.add(val)"
      ]
    }
  ]
}