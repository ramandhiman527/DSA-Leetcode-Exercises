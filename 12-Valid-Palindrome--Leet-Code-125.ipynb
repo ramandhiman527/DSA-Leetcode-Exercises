{
  "nbformat": 4,
  "nbformat_minor": 0,
  "metadata": {
    "colab": {
      "provenance": []
    },
    "kernelspec": {
      "name": "python3",
      "display_name": "Python 3"
    },
    "language_info": {
      "name": "python"
    }
  },
  "cells": [
    {
      "cell_type": "markdown",
      "source": [
        "    To check if a string is a palindrome using two pointers, first convert all uppercase letters into lowercase letters. \n",
        "    Then, initialize two pointers, one at the beginning and one at the end of the string. \n",
        "    Move the pointers towards each other until they meet in the middle, skipping non-alphanumeric characters. \n",
        "    Check if the characters at the current pointers are the same, and if not, return False since the string is not a palindrome. \n",
        "    If the pointers meet in the middle, the string is a palindrome."
      ],
      "metadata": {
        "id": "T0ZQ_0gI5ZSo"
      }
    },
    {
      "cell_type": "code",
      "execution_count": null,
      "metadata": {
        "id": "pVVkaaBuj--F"
      },
      "outputs": [],
      "source": [
        "class Solution:\n",
        "    def isPalindrome(self, s: str) -> bool:\n",
        "        s = s.lower()\n",
        "\n",
        "        left, right = 0, len(s) - 1\n",
        "\n",
        "        while left < right:\n",
        "            \n",
        "            while left < right and not s[left].isalnum():\n",
        "                left += 1\n",
        "            while left < right and not s[right].isalnum():\n",
        "                right -= 1\n",
        "            \n",
        "            if s[left] != s[right]:\n",
        "                return False\n",
        "            \n",
        "            left += 1\n",
        "            right -= 1\n",
        "        \n",
        "        return True"
      ]
    }
  ]
}