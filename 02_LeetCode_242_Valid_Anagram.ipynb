{
  "nbformat": 4,
  "nbformat_minor": 0,
  "metadata": {
    "colab": {
      "provenance": [],
      "authorship_tag": "ABX9TyP3rrQwsdwtIXsZWRk38Q5c",
      "include_colab_link": true
    },
    "kernelspec": {
      "name": "python3",
      "display_name": "Python 3"
    },
    "language_info": {
      "name": "python"
    }
  },
  "cells": [
    {
      "cell_type": "markdown",
      "metadata": {
        "id": "view-in-github",
        "colab_type": "text"
      },
      "source": [
        "<a href=\"https://colab.research.google.com/github/ramandhiman527/DSA-Leetcode-Exercises/blob/main/02_LeetCode_242_Valid_Anagram.ipynb\" target=\"_parent\"><img src=\"https://colab.research.google.com/assets/colab-badge.svg\" alt=\"Open In Colab\"/></a>"
      ]
    },
    {
      "cell_type": "markdown",
      "source": [
        "## **242. Valid Anagram**\n",
        "\n",
        "**Given two strings s and t, return true if t is an anagram of s, and false otherwise.**\n",
        "\n",
        "**An Anagram is a word or phrase formed by rearranging the letters of a different word or phrase, typically using all the original letters exactly once.**\n",
        "\n",
        " \n",
        "\n",
        "Example 1:\n",
        "\n",
        "    Input: s = \"anagram\", t = \"nagaram\"\n",
        "\n",
        "    Output: true\n",
        "\n",
        "Example 2:\n",
        "\n",
        "    Input: s = \"rat\", t = \"car\"\n",
        "\n",
        "    Output: false"
      ],
      "metadata": {
        "id": "slIYalo1qjer"
      }
    },
    {
      "cell_type": "markdown",
      "source": [
        "#### ***Solution 01 (Hash Map or Frequency Map) --> giving O(n)***"
      ],
      "metadata": {
        "id": "odgaiMvHq7OF"
      }
    },
    {
      "cell_type": "code",
      "execution_count": null,
      "metadata": {
        "id": "w5jqYM6hp5wc"
      },
      "outputs": [],
      "source": [
        "class Solution:\n",
        "    def isAnagram(self, s: str, t: str) -> bool:\n",
        "        if len(s) != len(t):\n",
        "            return False\n",
        "        freq_s, freq_t = {}, {}\n",
        "\n",
        "        for i in range(len(s)):\n",
        "            freq_s[s[i]] = 1 + freq_s.get(s[i], 0)\n",
        "            freq_t[t[i]] = 1 + freq_t.get(t[i], 0)\n",
        "        for c in freq_s:\n",
        "            if freq_s[c] != freq_t.get(c, 0):\n",
        "                return False\n",
        "\n",
        "        return True"
      ]
    },
    {
      "cell_type": "markdown",
      "source": [
        "#### ***Solution 02 (Sorting of strings) --> giving O(nlogn) time.***"
      ],
      "metadata": {
        "id": "3om7a5rgrG81"
      }
    },
    {
      "cell_type": "code",
      "source": [
        "class Solution:\n",
        "    def isAnagram(self, s: str, t: str) -> bool:\n",
        "        if len(s) != len(t):\n",
        "            return False\n",
        "        return sorted(s) == sorted(t)"
      ],
      "metadata": {
        "id": "Ovs3hCfqrHYI"
      },
      "execution_count": null,
      "outputs": []
    }
  ]
}