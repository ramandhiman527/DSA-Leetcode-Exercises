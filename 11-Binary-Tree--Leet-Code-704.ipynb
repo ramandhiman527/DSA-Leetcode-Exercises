{
  "nbformat": 4,
  "nbformat_minor": 0,
  "metadata": {
    "colab": {
      "provenance": []
    },
    "kernelspec": {
      "name": "python3",
      "display_name": "Python 3"
    },
    "language_info": {
      "name": "python"
    }
  },
  "cells": [
    {
      "cell_type": "markdown",
      "source": [
        "    Start by setting two pointers, low and high, to the beginning and end of the array, respectively. \n",
        "    While low is less than or equal to high, calculate the midpoint between them. If the midpoint element is equal to the target, return the midpoint index. \n",
        "    If the midpoint element is greater than the target, update high to be the midpoint - 1. \n",
        "    If the midpoint element is less than the target, update low to be the midpoint + 1. \n",
        "    If the target is not found, return -1."
      ],
      "metadata": {
        "id": "r9O44FIAVri8"
      }
    },
    {
      "cell_type": "code",
      "execution_count": null,
      "metadata": {
        "id": "FyN4Dgb4Vphs"
      },
      "outputs": [],
      "source": [
        "class Solution:\n",
        "    def search(self, nums: List[int], target: int) -> int:\n",
        "\n",
        "        low, high = 0, len(nums) - 1\n",
        "        while low <= high:\n",
        "            mid = (low + high) // 2\n",
        "            if nums[mid] == target:\n",
        "                return mid\n",
        "            elif nums[mid] < target:\n",
        "                low = mid + 1\n",
        "            else:\n",
        "                high = mid - 1\n",
        "        return -1"
      ]
    }
  ]
}